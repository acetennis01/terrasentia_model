{
 "cells": [
  {
   "cell_type": "code",
   "execution_count": 1,
   "id": "c2179a8d",
   "metadata": {},
   "outputs": [],
   "source": [
    "import os\n",
    "import pandas as pd\n",
    "import torch\n",
    "from torch.utils.data import Dataset\n",
    "import numpy as np"
   ]
  },
  {
   "cell_type": "code",
   "execution_count": 6,
   "id": "a1f3ee4a",
   "metadata": {},
   "outputs": [],
   "source": [
    "class HeatMapDataset(Dataset):\n",
    "    def __init__(self, file_name):\n",
    "        self.df = pd.read_csv(file_name)\n",
    "    \n",
    "    def __len__(self):\n",
    "        return len(self.df)\n",
    "    \n",
    "    def __getitem__(self, idx):\n",
    "        heatmap_str = df.iloc[idx, 10][1:-1]\n",
    "\n",
    "        data = np.fromstring(heatmap_str, sep=',') \n",
    "        \n",
    "        height = 56\n",
    "        width = 80\n",
    "        channels = 3\n",
    "\n",
    "        reshape_old = np.array(data).reshape(height, width, channels)\n",
    "\n",
    "        scaled = reshape_old - reshape_old.min()\n",
    "\n",
    "        scaled = scaled + 1\n",
    "\n",
    "        reshape = np.log(scaled)\n",
    "        reshape = np.sqrt(reshape)\n",
    "        \n",
    "        targets = self.df.iloc[idx, 4:10].values.astype(np.float32)\n",
    "        \n",
    "        return torch.tensor(reshape, dtype=torch.float), torch.tensor(targets, dtype=torch.float)"
   ]
  },
  {
   "cell_type": "code",
   "execution_count": 7,
   "id": "0c5fa38b",
   "metadata": {},
   "outputs": [],
   "source": [
    "from torch.utils.data import DataLoader\n",
    "csv_file_path = \"/Users/abhianna/Downloads/corn_env6_y=-0.2_yaw=0_rosbag.csv\"\n",
    "dataset = HeatMapDataset(csv_file_path)\n",
    "\n",
    "dataloader = DataLoader(dataset, batch_size=4, shuffle=True)"
   ]
  },
  {
   "cell_type": "code",
   "execution_count": null,
   "id": "163a78b5",
   "metadata": {},
   "outputs": [],
   "source": []
  }
 ],
 "metadata": {
  "kernelspec": {
   "display_name": "Python 3 (ipykernel)",
   "language": "python",
   "name": "python3"
  },
  "language_info": {
   "codemirror_mode": {
    "name": "ipython",
    "version": 3
   },
   "file_extension": ".py",
   "mimetype": "text/x-python",
   "name": "python",
   "nbconvert_exporter": "python",
   "pygments_lexer": "ipython3",
   "version": "3.9.12"
  }
 },
 "nbformat": 4,
 "nbformat_minor": 5
}
